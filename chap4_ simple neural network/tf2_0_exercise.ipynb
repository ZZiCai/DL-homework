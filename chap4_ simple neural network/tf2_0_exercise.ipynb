{
  "cells": [
    {
      "cell_type": "markdown",
      "metadata": {
        "id": "LjGc_I43RTnv"
      },
      "source": [
        "# Tensorflow2.0 小练习"
      ]
    },
    {
      "cell_type": "code",
      "execution_count": 1,
      "metadata": {
        "id": "uwX6nzooRTn9"
      },
      "outputs": [],
      "source": [
        "import tensorflow as tf\n",
        "import numpy as np"
      ]
    },
    {
      "cell_type": "markdown",
      "metadata": {
        "id": "cjjslYQ8RTn-"
      },
      "source": [
        "## 实现softmax函数:$\\frac{e^{x_i}}{\\sum_{j=1}^{d}{e^{x_j}}}$"
      ]
    },
    {
      "cell_type": "code",
      "execution_count": 2,
      "metadata": {
        "colab": {
          "base_uri": "https://localhost:8080/"
        },
        "id": "9RIwDfPIRTn-",
        "outputId": "68276410-e23d-4d37-8cfe-45e3fc6a9f2e"
      },
      "outputs": [
        {
          "output_type": "execute_result",
          "data": {
            "text/plain": [
              "array([[ True,  True,  True,  True,  True],\n",
              "       [ True,  True,  True,  True,  True],\n",
              "       [ True,  True,  True,  True,  True],\n",
              "       [ True,  True,  True,  True,  True],\n",
              "       [ True,  True,  True,  True,  True],\n",
              "       [ True,  True,  True,  True,  True],\n",
              "       [ True,  True,  True,  True,  True],\n",
              "       [ True,  True,  True,  True,  True],\n",
              "       [ True,  True,  True,  True,  True],\n",
              "       [ True,  True,  True,  True,  True]])"
            ]
          },
          "metadata": {},
          "execution_count": 2
        }
      ],
      "source": [
        "def softmax(x):\n",
        "    ##########\n",
        "    '''实现softmax函数，只要求对最后一维归一化，\n",
        "    不允许用tf自带的softmax函数'''\n",
        "    epsilon = 1e-10\n",
        "    x_exp = tf.math.exp(x) # shape=[N, d]\n",
        "    sum = tf.reduce_sum(x_exp, axis=1, keepdims=True) #shape=[N, 1]\n",
        "    prob_x = x_exp/(sum+epsilon)\n",
        "    ##########\n",
        "    return prob_x\n",
        "\n",
        "test_data = np.random.normal(size=[10, 5])\n",
        "(softmax(test_data).numpy() - tf.nn.softmax(test_data, axis=-1).numpy())**2 <0.0001"
      ]
    },
    {
      "cell_type": "markdown",
      "metadata": {
        "id": "ZY_ztKGdRTn-"
      },
      "source": [
        "## 实现sigmoid函数:$\\frac{1}{1+e^{-x}}$"
      ]
    },
    {
      "cell_type": "code",
      "execution_count": 4,
      "metadata": {
        "colab": {
          "base_uri": "https://localhost:8080/"
        },
        "id": "3MYBIBfYRTn-",
        "outputId": "da0970a4-9e5a-4e24-9670-db4108ac0c51"
      },
      "outputs": [
        {
          "output_type": "execute_result",
          "data": {
            "text/plain": [
              "array([[ True,  True,  True,  True,  True],\n",
              "       [ True,  True,  True,  True,  True],\n",
              "       [ True,  True,  True,  True,  True],\n",
              "       [ True,  True,  True,  True,  True],\n",
              "       [ True,  True,  True,  True,  True],\n",
              "       [ True,  True,  True,  True,  True],\n",
              "       [ True,  True,  True,  True,  True],\n",
              "       [ True,  True,  True,  True,  True],\n",
              "       [ True,  True,  True,  True,  True],\n",
              "       [ True,  True,  True,  True,  True]])"
            ]
          },
          "metadata": {},
          "execution_count": 4
        }
      ],
      "source": [
        "def sigmoid(x):\n",
        "    ##########\n",
        "    '''实现sigmoid函数， 不允许用tf自带的sigmoid函数'''\n",
        "    x_exp = tf.math.exp(-x)\n",
        "    prob_x = 1/(1+x_exp)\n",
        "    ##########\n",
        "    return prob_x\n",
        "\n",
        "test_data = np.random.normal(size=[10, 5])\n",
        "(sigmoid(test_data).numpy() - tf.nn.sigmoid(test_data).numpy())**2 < 0.0001"
      ]
    },
    {
      "cell_type": "markdown",
      "metadata": {
        "id": "wMGzRjs8RTn-"
      },
      "source": [
        "## 实现 softmax 交叉熵loss函数"
      ]
    },
    {
      "cell_type": "code",
      "execution_count": 6,
      "metadata": {
        "colab": {
          "base_uri": "https://localhost:8080/"
        },
        "id": "Y82stpStRTn_",
        "outputId": "8c0cd3e9-4714-48f5-ea5a-ce0ce0a34ff5"
      },
      "outputs": [
        {
          "output_type": "execute_result",
          "data": {
            "text/plain": [
              "True"
            ]
          },
          "metadata": {},
          "execution_count": 6
        }
      ],
      "source": [
        "def softmax_ce(x, label):\n",
        "    ##########\n",
        "    '''实现 softmax 交叉熵loss函数， 不允许用tf自带的softmax_cross_entropy函数'''\n",
        "    tmp = tf.reduce_sum(-label*tf.math.log(x), axis=1)\n",
        "    loss = tf.reduce_mean(tmp)\n",
        "    ##########\n",
        "    return loss\n",
        "\n",
        "test_data = np.random.normal(size=[10, 5])\n",
        "prob = tf.nn.softmax(test_data)\n",
        "label = np.zeros_like(test_data)\n",
        "label[np.arange(10), np.random.randint(0, 5, size=10)]=1.\n",
        "\n",
        "((tf.reduce_mean(tf.nn.softmax_cross_entropy_with_logits(label, test_data))\n",
        "  - softmax_ce(prob, label))**2 < 0.0001).numpy()"
      ]
    },
    {
      "cell_type": "markdown",
      "metadata": {
        "id": "atft1sVuRTn_"
      },
      "source": [
        "## 实现 sigmoid 交叉熵loss函数"
      ]
    },
    {
      "cell_type": "code",
      "execution_count": 7,
      "metadata": {
        "colab": {
          "base_uri": "https://localhost:8080/"
        },
        "id": "NcmXyreGRTn_",
        "outputId": "1662f26c-8c86-47c7-992e-d86dd134ee9e"
      },
      "outputs": [
        {
          "output_type": "stream",
          "name": "stdout",
          "text": [
            "[0. 0. 1. 1. 0. 1. 1. 0. 1. 1.]\n"
          ]
        },
        {
          "output_type": "execute_result",
          "data": {
            "text/plain": [
              "True"
            ]
          },
          "metadata": {},
          "execution_count": 7
        }
      ],
      "source": [
        "def sigmoid_ce(x, label):\n",
        "    ##########\n",
        "    '''实现 sigmoid 交叉熵loss函数， 不允许用tf自带的sigmoid_cross_entropy函数'''\n",
        "    epsilon = 1e-10\n",
        "    losses = -label * tf.math.log(x+epsilon) - (1.-label) * tf.math.log(1.-x+epsilon)\n",
        "    loss = tf.reduce_mean(losses)\n",
        "    ##########\n",
        "    return loss\n",
        "\n",
        "test_data = np.random.normal(size=[10])\n",
        "prob = tf.nn.sigmoid(test_data)\n",
        "label = np.random.randint(0, 2, 10).astype(test_data.dtype)\n",
        "print (label)\n",
        "\n",
        "((tf.reduce_mean(tf.nn.sigmoid_cross_entropy_with_logits(label, test_data))- sigmoid_ce(prob, label))**2 < 0.0001).numpy()\n"
      ]
    },
    {
      "cell_type": "code",
      "execution_count": null,
      "metadata": {
        "id": "gnP6KWwCRTn_"
      },
      "outputs": [],
      "source": []
    }
  ],
  "metadata": {
    "kernelspec": {
      "display_name": "Python 3",
      "name": "python3"
    },
    "language_info": {
      "codemirror_mode": {
        "name": "ipython",
        "version": 3
      },
      "file_extension": ".py",
      "mimetype": "text/x-python",
      "name": "python",
      "nbconvert_exporter": "python",
      "pygments_lexer": "ipython3",
      "version": "3.7.0"
    },
    "colab": {
      "provenance": [],
      "gpuType": "T4"
    },
    "accelerator": "GPU"
  },
  "nbformat": 4,
  "nbformat_minor": 0
}