{
  "cells": [
    {
      "cell_type": "markdown",
      "metadata": {
        "id": "q_yuCQeZVdpY"
      },
      "source": [
        "## 准备数据"
      ]
    },
    {
      "cell_type": "code",
      "execution_count": 1,
      "metadata": {
        "id": "rPM6yfVDVdpZ"
      },
      "outputs": [],
      "source": [
        "import os\n",
        "import numpy as np\n",
        "import tensorflow as tf\n",
        "from tensorflow import keras\n",
        "from tensorflow.keras import layers, optimizers, datasets\n",
        "\n",
        "os.environ['TF_CPP_MIN_LOG_LEVEL'] = '2'  # or any {'0', '1', '2'}\n",
        "\n",
        "def mnist_dataset():\n",
        "    (x, y), (x_test, y_test) = datasets.mnist.load_data()\n",
        "    #normalize\n",
        "    x = x/255.0\n",
        "    x_test = x_test/255.0\n",
        "\n",
        "    return (x, y), (x_test, y_test)"
      ]
    },
    {
      "cell_type": "code",
      "execution_count": 2,
      "metadata": {
        "colab": {
          "base_uri": "https://localhost:8080/"
        },
        "id": "TfbtDN_nVdpa",
        "outputId": "f2507f23-1c6d-4b23-e0a8-5abc365be0e6"
      },
      "outputs": [
        {
          "output_type": "stream",
          "name": "stdout",
          "text": [
            "[(1, 'a'), (2, 'b'), (3, 'c'), (4, 'd')]\n"
          ]
        }
      ],
      "source": [
        "print(list(zip([1, 2, 3, 4], ['a', 'b', 'c', 'd'])))"
      ]
    },
    {
      "cell_type": "markdown",
      "metadata": {
        "id": "1W5Fvzq_Vdpb"
      },
      "source": [
        "## 建立模型"
      ]
    },
    {
      "cell_type": "code",
      "execution_count": 28,
      "metadata": {
        "id": "a8XL7gSIVdpb"
      },
      "outputs": [],
      "source": [
        "class myModel:\n",
        "    def __init__(self):\n",
        "        ####################\n",
        "        '''声明模型对应的参数'''\n",
        "        input_shape = 28*28  # 输入形状为28x28的图像\n",
        "        hidden_units = 2048      # 隐藏层单元数\n",
        "        num_classes = 10        # 类别数\n",
        "\n",
        "        self.W1 = tf.Variable(shape=[input_shape, hidden_units], dtype=tf.float32,\n",
        "                         initial_value=tf.random.uniform(shape=[input_shape, hidden_units],\n",
        "                                                         minval=-0.1, maxval=0.1))\n",
        "        self.b1 = tf.Variable(shape=[hidden_units], dtype=tf.float32, initial_value=tf.zeros(hidden_units))\n",
        "        self.W2 = tf.Variable(shape=[hidden_units, num_classes], dtype=tf.float32,\n",
        "                         initial_value=tf.random.uniform(shape=[hidden_units, num_classes],\n",
        "                                                         minval=-0.1, maxval=0.1))\n",
        "        self.b2 = tf.Variable(shape=[num_classes], dtype=tf.float32, initial_value=tf.zeros(num_classes))\n",
        "        self.trainable_variables = [self.W1, self.W2, self.b1, self.b2]\n",
        "\n",
        "        ####################\n",
        "    def __call__(self, x):\n",
        "        ####################\n",
        "        '''实现模型函数体，返回未归一化的logits'''\n",
        "        flat_x = tf.reshape(x, shape=[-1, 28*28])\n",
        "        h1 = tf.tanh(tf.matmul(flat_x, self.W1) + self.b1)\n",
        "        logits = tf.matmul(h1, self.W2) + self.b2\n",
        "        ####################\n",
        "        return logits\n",
        "\n",
        "model = myModel() # 模型\n",
        "\n",
        "optimizer = optimizers.Adam() # 优化器"
      ]
    },
    {
      "cell_type": "markdown",
      "metadata": {
        "id": "UEp_xdl4Vdpb"
      },
      "source": [
        "## 计算 loss"
      ]
    },
    {
      "cell_type": "code",
      "execution_count": 29,
      "metadata": {
        "id": "lj4gDmNoVdpb"
      },
      "outputs": [],
      "source": [
        "@tf.function\n",
        "def compute_loss(logits, labels):\n",
        "    return tf.reduce_mean(\n",
        "        tf.nn.sparse_softmax_cross_entropy_with_logits(\n",
        "            logits=logits, labels=labels))\n",
        "\n",
        "@tf.function\n",
        "def compute_accuracy(logits, labels):\n",
        "    predictions = tf.argmax(logits, axis=1)\n",
        "    return tf.reduce_mean(tf.cast(tf.equal(predictions, labels), tf.float32))\n",
        "\n",
        "@tf.function\n",
        "def train_one_step(model, optimizer, x, y):\n",
        "    with tf.GradientTape() as tape:\n",
        "        logits = model(x)\n",
        "        loss = compute_loss(logits, y)\n",
        "\n",
        "    # compute gradient\n",
        "    trainable_vars = [model.W1, model.W2, model.b1, model.b2]\n",
        "    grads = tape.gradient(loss, trainable_vars)\n",
        "    for g, v in zip(grads, trainable_vars):\n",
        "        v.assign_sub(0.01*g)\n",
        "\n",
        "    accuracy = compute_accuracy(logits, y)\n",
        "\n",
        "    # loss and accuracy is scalar tensor\n",
        "    return loss, accuracy\n",
        "\n",
        "@tf.function\n",
        "def test(model, x, y):\n",
        "    logits = model(x)\n",
        "    loss = compute_loss(logits, y)\n",
        "    accuracy = compute_accuracy(logits, y)\n",
        "    return loss, accuracy"
      ]
    },
    {
      "cell_type": "markdown",
      "metadata": {
        "id": "khES9hXJVdpb"
      },
      "source": [
        "## 实际训练"
      ]
    },
    {
      "cell_type": "code",
      "execution_count": 30,
      "metadata": {
        "colab": {
          "base_uri": "https://localhost:8080/"
        },
        "id": "du1ThS1lVdpb",
        "outputId": "9e227388-16b9-43d4-f9ac-877a898676dc"
      },
      "outputs": [
        {
          "output_type": "stream",
          "name": "stdout",
          "text": [
            "epoch 0 : loss 2.639688 ; accuracy 0.15216666\n",
            "epoch 1 : loss 2.4243796 ; accuracy 0.19223334\n",
            "epoch 2 : loss 2.2714403 ; accuracy 0.22615\n",
            "epoch 3 : loss 2.1501884 ; accuracy 0.25946668\n",
            "epoch 4 : loss 2.050488 ; accuracy 0.2931\n",
            "epoch 5 : loss 1.9665585 ; accuracy 0.32428333\n",
            "epoch 6 : loss 1.8941673 ; accuracy 0.35475\n",
            "epoch 7 : loss 1.8301498 ; accuracy 0.38651666\n",
            "epoch 8 : loss 1.7723024 ; accuracy 0.414\n",
            "epoch 9 : loss 1.7191906 ; accuracy 0.4398\n",
            "epoch 10 : loss 1.6699094 ; accuracy 0.463\n",
            "epoch 11 : loss 1.6238807 ; accuracy 0.48471665\n",
            "epoch 12 : loss 1.5807171 ; accuracy 0.5043333\n",
            "epoch 13 : loss 1.5401382 ; accuracy 0.5219667\n",
            "epoch 14 : loss 1.5019252 ; accuracy 0.5381\n",
            "epoch 15 : loss 1.4658947 ; accuracy 0.55215\n",
            "epoch 16 : loss 1.4318862 ; accuracy 0.56561667\n",
            "epoch 17 : loss 1.3997557 ; accuracy 0.57778335\n",
            "epoch 18 : loss 1.3693718 ; accuracy 0.58923334\n",
            "epoch 19 : loss 1.340613 ; accuracy 0.60031664\n",
            "epoch 20 : loss 1.3133682 ; accuracy 0.6109167\n",
            "epoch 21 : loss 1.2875339 ; accuracy 0.62056667\n",
            "epoch 22 : loss 1.2630146 ; accuracy 0.62923336\n",
            "epoch 23 : loss 1.2397221 ; accuracy 0.6378667\n",
            "epoch 24 : loss 1.2175747 ; accuracy 0.6465\n",
            "epoch 25 : loss 1.1964968 ; accuracy 0.6544667\n",
            "epoch 26 : loss 1.176419 ; accuracy 0.6616\n",
            "epoch 27 : loss 1.1572763 ; accuracy 0.6688\n",
            "epoch 28 : loss 1.1390091 ; accuracy 0.6752833\n",
            "epoch 29 : loss 1.1215622 ; accuracy 0.68155\n",
            "epoch 30 : loss 1.1048846 ; accuracy 0.6877667\n",
            "epoch 31 : loss 1.0889288 ; accuracy 0.6940333\n",
            "epoch 32 : loss 1.0736511 ; accuracy 0.69955\n",
            "epoch 33 : loss 1.0590105 ; accuracy 0.70445\n",
            "epoch 34 : loss 1.0449697 ; accuracy 0.70965\n",
            "epoch 35 : loss 1.0314937 ; accuracy 0.7141167\n",
            "epoch 36 : loss 1.0185496 ; accuracy 0.7185\n",
            "epoch 37 : loss 1.0061074 ; accuracy 0.72245\n",
            "epoch 38 : loss 0.9941393 ; accuracy 0.7264\n",
            "epoch 39 : loss 0.98261887 ; accuracy 0.73\n",
            "epoch 40 : loss 0.97152174 ; accuracy 0.7334667\n",
            "epoch 41 : loss 0.96082526 ; accuracy 0.73685\n",
            "epoch 42 : loss 0.9505083 ; accuracy 0.7399\n",
            "epoch 43 : loss 0.9405509 ; accuracy 0.74301666\n",
            "epoch 44 : loss 0.9309349 ; accuracy 0.74585\n",
            "epoch 45 : loss 0.9216428 ; accuracy 0.7486333\n",
            "epoch 46 : loss 0.91265833 ; accuracy 0.75126666\n",
            "epoch 47 : loss 0.90396655 ; accuracy 0.75375\n",
            "epoch 48 : loss 0.8955532 ; accuracy 0.75633335\n",
            "epoch 49 : loss 0.8874048 ; accuracy 0.7586833\n",
            "test loss 0.85584724 ; accuracy 0.7671\n"
          ]
        }
      ],
      "source": [
        "train_data, test_data = mnist_dataset()\n",
        "for epoch in range(50):\n",
        "    loss, accuracy = train_one_step(model, optimizer,\n",
        "                                    tf.constant(train_data[0], dtype=tf.float32),\n",
        "                                    tf.constant(train_data[1], dtype=tf.int64))\n",
        "    print('epoch', epoch, ': loss', loss.numpy(), '; accuracy', accuracy.numpy())\n",
        "loss, accuracy = test(model,\n",
        "                      tf.constant(test_data[0], dtype=tf.float32),\n",
        "                      tf.constant(test_data[1], dtype=tf.int64))\n",
        "\n",
        "print('test loss', loss.numpy(), '; accuracy', accuracy.numpy())"
      ]
    },
    {
      "cell_type": "code",
      "source": [],
      "metadata": {
        "id": "K8vpPfpdawBT"
      },
      "execution_count": 24,
      "outputs": []
    }
  ],
  "metadata": {
    "kernelspec": {
      "display_name": "Python 3",
      "name": "python3"
    },
    "language_info": {
      "codemirror_mode": {
        "name": "ipython",
        "version": 3
      },
      "file_extension": ".py",
      "mimetype": "text/x-python",
      "name": "python",
      "nbconvert_exporter": "python",
      "pygments_lexer": "ipython3",
      "version": "3.7.0"
    },
    "colab": {
      "provenance": [],
      "gpuType": "T4"
    },
    "accelerator": "GPU"
  },
  "nbformat": 4,
  "nbformat_minor": 0
}