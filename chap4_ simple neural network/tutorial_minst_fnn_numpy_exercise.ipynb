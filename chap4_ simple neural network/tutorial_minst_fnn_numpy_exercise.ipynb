{
  "cells": [
    {
      "cell_type": "markdown",
      "metadata": {
        "id": "A7_jqzRAbmPw"
      },
      "source": [
        "## 准备数据"
      ]
    },
    {
      "cell_type": "code",
      "execution_count": 1,
      "metadata": {
        "id": "bgwLbHGubmPy"
      },
      "outputs": [],
      "source": [
        "import os\n",
        "import numpy as np\n",
        "import tensorflow as tf\n",
        "from tensorflow import keras\n",
        "from tensorflow.keras import layers, optimizers, datasets\n",
        "\n",
        "os.environ['TF_CPP_MIN_LOG_LEVEL'] = '2'  # or any {'0', '1', '2'}\n",
        "\n",
        "def mnist_dataset():\n",
        "    (x, y), (x_test, y_test) = datasets.mnist.load_data()\n",
        "    #normalize\n",
        "    x = x/255.0\n",
        "    x_test = x_test/255.0\n",
        "\n",
        "    return (x, y), (x_test, y_test)"
      ]
    },
    {
      "cell_type": "markdown",
      "metadata": {
        "id": "Gwzqlw5_bmPz"
      },
      "source": [
        "## Demo numpy based auto differentiation"
      ]
    },
    {
      "cell_type": "code",
      "execution_count": 2,
      "metadata": {
        "id": "fco0r06fbmPz"
      },
      "outputs": [],
      "source": [
        "import numpy as np\n",
        "\n",
        "class Matmul:\n",
        "    def __init__(self):\n",
        "        self.mem = {}\n",
        "\n",
        "    def forward(self, x, W):\n",
        "        h = np.matmul(x, W)\n",
        "        self.mem={'x': x, 'W':W}\n",
        "        return h\n",
        "\n",
        "    def backward(self, grad_y):\n",
        "        '''\n",
        "        x: shape(N, d)\n",
        "        w: shape(d, d')\n",
        "        grad_y: shape(N, d')\n",
        "        '''\n",
        "        x = self.mem['x']\n",
        "        W = self.mem['W']\n",
        "\n",
        "        ####################\n",
        "        '''计算矩阵乘法的对应的梯度'''\n",
        "        grad_x = np.matmul(grad_y, W.T)\n",
        "        grad_W = np.matmul(x.T, grad_y)\n",
        "        ####################\n",
        "        return grad_x, grad_W\n",
        "\n",
        "\n",
        "class Relu:\n",
        "    def __init__(self):\n",
        "        self.mem = {}\n",
        "\n",
        "    def forward(self, x):\n",
        "        self.mem['x']=x\n",
        "        return np.where(x > 0, x, np.zeros_like(x))\n",
        "\n",
        "    def backward(self, grad_y):\n",
        "        '''\n",
        "        grad_y: same shape as x\n",
        "        '''\n",
        "        ####################\n",
        "        '''计算relu 激活函数对应的梯度'''\n",
        "        x = self.mem['x']\n",
        "        grad_x = (x > 0).astype(np.float32) * grad_y\n",
        "        ####################\n",
        "        return grad_x\n",
        "\n",
        "\n",
        "\n",
        "class Softmax:\n",
        "    '''\n",
        "    softmax over last dimention\n",
        "    '''\n",
        "    def __init__(self):\n",
        "        self.epsilon = 1e-12\n",
        "        self.mem = {}\n",
        "\n",
        "    def forward(self, x):\n",
        "        '''\n",
        "        x: shape(N, c)\n",
        "        '''\n",
        "        x_exp = np.exp(x)\n",
        "        partition = np.sum(x_exp, axis=1, keepdims=True)\n",
        "        out = x_exp/(partition+self.epsilon)\n",
        "\n",
        "        self.mem['out'] = out\n",
        "        self.mem['x_exp'] = x_exp\n",
        "        return out\n",
        "\n",
        "    def backward(self, grad_y):\n",
        "        '''\n",
        "        grad_y: same shape as x\n",
        "        '''\n",
        "        s = self.mem['out']\n",
        "        sisj = np.matmul(np.expand_dims(s,axis=2), np.expand_dims(s, axis=1)) # (N, c, c)\n",
        "        g_y_exp = np.expand_dims(grad_y, axis=1)\n",
        "        tmp = np.matmul(g_y_exp, sisj) #(N, 1, c)\n",
        "        tmp = np.squeeze(tmp, axis=1)\n",
        "        tmp = -tmp+grad_y*s\n",
        "        return tmp\n",
        "\n",
        "class Log:\n",
        "    '''\n",
        "    softmax over last dimention\n",
        "    '''\n",
        "    def __init__(self):\n",
        "        self.epsilon = 1e-12\n",
        "        self.mem = {}\n",
        "\n",
        "    def forward(self, x):\n",
        "        '''\n",
        "        x: shape(N, c)\n",
        "        '''\n",
        "        out = np.log(x+self.epsilon)\n",
        "\n",
        "        self.mem['x'] = x\n",
        "        return out\n",
        "\n",
        "    def backward(self, grad_y):\n",
        "        '''\n",
        "        grad_y: same shape as x\n",
        "        '''\n",
        "        x = self.mem['x']\n",
        "\n",
        "        return 1./(x+1e-12) * grad_y\n",
        "\n"
      ]
    },
    {
      "cell_type": "markdown",
      "metadata": {
        "id": "ycBgs1R3bmPz"
      },
      "source": [
        "## Gradient check"
      ]
    },
    {
      "cell_type": "code",
      "execution_count": 3,
      "metadata": {
        "id": "aWoWIfRRbmP0"
      },
      "outputs": [],
      "source": [
        "# import tensorflow as tf\n",
        "\n",
        "# x = np.random.normal(size=[5, 6])\n",
        "# W = np.random.normal(size=[6, 4])\n",
        "# aa = Matmul()\n",
        "# out = aa.forward(x, W) # shape(5, 4)\n",
        "# grad = aa.backward(np.ones_like(out))\n",
        "# print (grad)\n",
        "\n",
        "# with tf.GradientTape() as tape:\n",
        "#     x, W = tf.constant(x), tf.constant(W)\n",
        "#     tape.watch(x)\n",
        "#     y = tf.matmul(x, W)\n",
        "#     loss = tf.reduce_sum(y)\n",
        "#     grads = tape.gradient(loss, x)\n",
        "#     print (grads)\n",
        "\n",
        "# import tensorflow as tf\n",
        "\n",
        "# x = np.random.normal(size=[5, 6])\n",
        "# aa = Relu()\n",
        "# out = aa.forward(x) # shape(5, 4)\n",
        "# grad = aa.backward(np.ones_like(out))\n",
        "# print (grad)\n",
        "\n",
        "# with tf.GradientTape() as tape:\n",
        "#     x= tf.constant(x)\n",
        "#     tape.watch(x)\n",
        "#     y = tf.nn.relu(x)\n",
        "#     loss = tf.reduce_sum(y)\n",
        "#     grads = tape.gradient(loss, x)\n",
        "#     print (grads)\n",
        "\n",
        "# import tensorflow as tf\n",
        "# x = np.random.normal(size=[5, 6], scale=5.0, loc=1)\n",
        "# label = np.zeros_like(x)\n",
        "# label[0, 1]=1.\n",
        "# label[1, 0]=1\n",
        "# label[1, 1]=1\n",
        "# label[2, 3]=1\n",
        "# label[3, 5]=1\n",
        "# label[4, 0]=1\n",
        "# print(label)\n",
        "# aa = Softmax()\n",
        "# out = aa.forward(x) # shape(5, 6)\n",
        "# grad = aa.backward(label)\n",
        "# print (grad)\n",
        "\n",
        "# with tf.GradientTape() as tape:\n",
        "#     x= tf.constant(x)\n",
        "#     tape.watch(x)\n",
        "#     y = tf.nn.softmax(x)\n",
        "#     loss = tf.reduce_sum(y*label)\n",
        "#     grads = tape.gradient(loss, x)\n",
        "#     print (grads)\n",
        "\n",
        "# import tensorflow as tf\n",
        "\n",
        "# x = np.random.normal(size=[5, 6])\n",
        "# aa = Log()\n",
        "# out = aa.forward(x) # shape(5, 4)\n",
        "# grad = aa.backward(label)\n",
        "# print (grad)\n",
        "\n",
        "# with tf.GradientTape() as tape:\n",
        "#     x= tf.constant(x)\n",
        "#     tape.watch(x)\n",
        "#     y = tf.math.log(x)\n",
        "#     loss = tf.reduce_sum(y*label)\n",
        "#     grads = tape.gradient(loss, x)\n",
        "#     print (grads)"
      ]
    },
    {
      "cell_type": "markdown",
      "metadata": {
        "id": "_E_eM540bmP0"
      },
      "source": [
        "# Final Gradient Check"
      ]
    },
    {
      "cell_type": "code",
      "execution_count": 5,
      "metadata": {
        "colab": {
          "base_uri": "https://localhost:8080/"
        },
        "id": "lwhBH5hSbmP0",
        "outputId": "4d69e664-751f-4153-f3e8-49f805cc4adc"
      },
      "outputs": [
        {
          "output_type": "stream",
          "name": "stdout",
          "text": [
            "[[0.00000000e+00 5.00538277e+04 0.00000000e+00 0.00000000e+00\n",
            "  0.00000000e+00 0.00000000e+00]\n",
            " [1.63316189e+02 0.00000000e+00 0.00000000e+00 0.00000000e+00\n",
            "  0.00000000e+00 0.00000000e+00]\n",
            " [0.00000000e+00 0.00000000e+00 0.00000000e+00 4.20835011e+00\n",
            "  0.00000000e+00 0.00000000e+00]\n",
            " [0.00000000e+00 0.00000000e+00 0.00000000e+00 0.00000000e+00\n",
            "  0.00000000e+00 4.63271674e+02]\n",
            " [1.68333279e+02 0.00000000e+00 0.00000000e+00 0.00000000e+00\n",
            "  0.00000000e+00 0.00000000e+00]]\n",
            "----------------------------------------\n",
            "[[0.00000000e+00 5.00538302e+04 0.00000000e+00 0.00000000e+00\n",
            "  0.00000000e+00 0.00000000e+00]\n",
            " [1.63316189e+02 0.00000000e+00 0.00000000e+00 0.00000000e+00\n",
            "  0.00000000e+00 0.00000000e+00]\n",
            " [0.00000000e+00 0.00000000e+00 0.00000000e+00 4.20835011e+00\n",
            "  0.00000000e+00 0.00000000e+00]\n",
            " [0.00000000e+00 0.00000000e+00 0.00000000e+00 0.00000000e+00\n",
            "  0.00000000e+00 4.63271675e+02]\n",
            " [1.68333279e+02 0.00000000e+00 0.00000000e+00 0.00000000e+00\n",
            "  0.00000000e+00 0.00000000e+00]]\n"
          ]
        }
      ],
      "source": [
        "import tensorflow as tf\n",
        "\n",
        "\n",
        "\n",
        "x = np.random.normal(size=[5, 6])\n",
        "W1 = np.random.normal(size=[6, 5])\n",
        "W2 = np.random.normal(size=[5, 6])\n",
        "\n",
        "label = np.zeros_like(x)\n",
        "label[0, 1]=1.\n",
        "label[1, 0]=1\n",
        "label[2, 3]=1\n",
        "label[3, 5]=1\n",
        "label[4, 0]=1\n",
        "\n",
        "mul_h1 = Matmul()\n",
        "mul_h2 = Matmul()\n",
        "relu = Relu()\n",
        "softmax = Softmax()\n",
        "log = Log()\n",
        "\n",
        "h1 = mul_h1.forward(x, W1) # shape(5, 4)\n",
        "h1_relu = relu.forward(h1)\n",
        "h2 = mul_h2.forward(h1_relu, W2)\n",
        "h2_soft = softmax.forward(h2)\n",
        "h2_log = log.forward(h2_soft)\n",
        "\n",
        "\n",
        "h2_log_grad = log.backward(label)\n",
        "h2_soft_grad = softmax.backward(h2_log_grad)\n",
        "h2_grad, W2_grad = mul_h2.backward(h2_soft_grad)\n",
        "h1_relu_grad = relu.backward(h2_grad)\n",
        "h1_grad, W1_grad = mul_h1.backward(h1_relu_grad)\n",
        "\n",
        "print(h2_log_grad)\n",
        "print('--'*20)\n",
        "# print(W2_grad)\n",
        "\n",
        "with tf.GradientTape() as tape:\n",
        "    x, W1, W2, label = tf.constant(x), tf.constant(W1), tf.constant(W2), tf.constant(label)\n",
        "    tape.watch(W1)\n",
        "    tape.watch(W2)\n",
        "    h1 = tf.matmul(x, W1)\n",
        "    h1_relu = tf.nn.relu(h1)\n",
        "    h2 = tf.matmul(h1_relu, W2)\n",
        "    prob = tf.nn.softmax(h2)\n",
        "    log_prob = tf.math.log(prob)\n",
        "    loss = tf.reduce_sum(label * log_prob)\n",
        "    grads = tape.gradient(loss, [prob])\n",
        "    print (grads[0].numpy())"
      ]
    },
    {
      "cell_type": "markdown",
      "metadata": {
        "id": "j9k8QEPtbmP1"
      },
      "source": [
        "## 建立模型"
      ]
    },
    {
      "cell_type": "code",
      "execution_count": 6,
      "metadata": {
        "id": "I0LpEdfubmP1"
      },
      "outputs": [],
      "source": [
        "class myModel:\n",
        "    def __init__(self):\n",
        "\n",
        "        self.W1 = np.random.normal(size=[28*28+1, 100])\n",
        "        self.W2 = np.random.normal(size=[100, 10])\n",
        "\n",
        "        self.mul_h1 = Matmul()\n",
        "        self.mul_h2 = Matmul()\n",
        "        self.relu = Relu()\n",
        "        self.softmax = Softmax()\n",
        "        self.log = Log()\n",
        "\n",
        "\n",
        "    def forward(self, x):\n",
        "        x = x.reshape(-1, 28*28)\n",
        "        bias = np.ones(shape=[x.shape[0], 1])\n",
        "        x = np.concatenate([x, bias], axis=1)\n",
        "\n",
        "        self.h1 = self.mul_h1.forward(x, self.W1) # shape(5, 4)\n",
        "        self.h1_relu = self.relu.forward(self.h1)\n",
        "        self.h2 = self.mul_h2.forward(self.h1_relu, self.W2)\n",
        "        self.h2_soft = self.softmax.forward(self.h2)\n",
        "        self.h2_log = self.log.forward(self.h2_soft)\n",
        "\n",
        "    def backward(self, label):\n",
        "        self.h2_log_grad = self.log.backward(-label)\n",
        "        self.h2_soft_grad = self.softmax.backward(self.h2_log_grad)\n",
        "        self.h2_grad, self.W2_grad = self.mul_h2.backward(self.h2_soft_grad)\n",
        "        self.h1_relu_grad = self.relu.backward(self.h2_grad)\n",
        "        self.h1_grad, self.W1_grad = self.mul_h1.backward(self.h1_relu_grad)\n",
        "\n",
        "model = myModel()\n"
      ]
    },
    {
      "cell_type": "markdown",
      "metadata": {
        "id": "Ui_VuAOvbmP1"
      },
      "source": [
        "## 计算 loss"
      ]
    },
    {
      "cell_type": "code",
      "execution_count": 7,
      "metadata": {
        "id": "p7VQ1pPJbmP1"
      },
      "outputs": [],
      "source": [
        "def compute_loss(log_prob, labels):\n",
        "     return np.mean(np.sum(-log_prob*labels, axis=1))\n",
        "\n",
        "\n",
        "def compute_accuracy(log_prob, labels):\n",
        "    predictions = np.argmax(log_prob, axis=1)\n",
        "    truth = np.argmax(labels, axis=1)\n",
        "    return np.mean(predictions==truth)\n",
        "\n",
        "def train_one_step(model, x, y):\n",
        "    model.forward(x)\n",
        "    model.backward(y)\n",
        "    model.W1 -= 1e-5* model.W1_grad\n",
        "    model.W2 -= 1e-5* model.W2_grad\n",
        "    loss = compute_loss(model.h2_log, y)\n",
        "    accuracy = compute_accuracy(model.h2_log, y)\n",
        "    return loss, accuracy\n",
        "\n",
        "def test(model, x, y):\n",
        "    model.forward(x)\n",
        "    loss = compute_loss(model.h2_log, y)\n",
        "    accuracy = compute_accuracy(model.h2_log, y)\n",
        "    return loss, accuracy"
      ]
    },
    {
      "cell_type": "markdown",
      "metadata": {
        "id": "hEVcTQRPbmP1"
      },
      "source": [
        "## 实际训练"
      ]
    },
    {
      "cell_type": "code",
      "execution_count": 8,
      "metadata": {
        "colab": {
          "base_uri": "https://localhost:8080/"
        },
        "id": "zgbEP7yGbmP1",
        "outputId": "ca317c68-46b7-4969-c020-ce41c7d2c567"
      },
      "outputs": [
        {
          "output_type": "stream",
          "name": "stdout",
          "text": [
            "Downloading data from https://storage.googleapis.com/tensorflow/tf-keras-datasets/mnist.npz\n",
            "11490434/11490434 [==============================] - 0s 0us/step\n",
            "epoch 0 : loss 23.285553661890525 ; accuracy 0.10168333333333333\n",
            "epoch 1 : loss 21.083180149670962 ; accuracy 0.17153333333333334\n",
            "epoch 2 : loss 18.356431973357157 ; accuracy 0.27455\n",
            "epoch 3 : loss 17.116255709041184 ; accuracy 0.3099166666666667\n",
            "epoch 4 : loss 17.135944985800627 ; accuracy 0.32345\n",
            "epoch 5 : loss 16.584444063832883 ; accuracy 0.3343\n",
            "epoch 6 : loss 16.18154005865063 ; accuracy 0.3571166666666667\n",
            "epoch 7 : loss 14.069460151090835 ; accuracy 0.4278666666666667\n",
            "epoch 8 : loss 13.603502267295156 ; accuracy 0.44893333333333335\n",
            "epoch 9 : loss 13.028305629893303 ; accuracy 0.46436666666666665\n",
            "epoch 10 : loss 12.50638504082845 ; accuracy 0.4865833333333333\n",
            "epoch 11 : loss 12.151119526374954 ; accuracy 0.49601666666666666\n",
            "epoch 12 : loss 11.219087806601289 ; accuracy 0.5339166666666667\n",
            "epoch 13 : loss 10.939646630007704 ; accuracy 0.5417666666666666\n",
            "epoch 14 : loss 10.61469637390369 ; accuracy 0.5567833333333333\n",
            "epoch 15 : loss 10.532535003440552 ; accuracy 0.5617166666666666\n",
            "epoch 16 : loss 10.187039411580285 ; accuracy 0.57465\n",
            "epoch 17 : loss 10.16305425278231 ; accuracy 0.57715\n",
            "epoch 18 : loss 9.994091734430368 ; accuracy 0.5853333333333334\n",
            "epoch 19 : loss 9.860876160843196 ; accuracy 0.5896833333333333\n",
            "epoch 20 : loss 9.663205576165495 ; accuracy 0.5982333333333333\n",
            "epoch 21 : loss 9.56655858217146 ; accuracy 0.6003333333333334\n",
            "epoch 22 : loss 9.385839396024748 ; accuracy 0.60685\n",
            "epoch 23 : loss 9.217691538148951 ; accuracy 0.6099166666666667\n",
            "epoch 24 : loss 8.992364961874774 ; accuracy 0.6115\n",
            "epoch 25 : loss 8.672429953889747 ; accuracy 0.6192333333333333\n",
            "epoch 26 : loss 8.446706511606502 ; accuracy 0.6252333333333333\n",
            "epoch 27 : loss 8.26695627924972 ; accuracy 0.63965\n",
            "epoch 28 : loss 8.452265947114704 ; accuracy 0.6204666666666667\n",
            "epoch 29 : loss 8.755622281183516 ; accuracy 0.6374333333333333\n",
            "epoch 30 : loss 8.5300047678532 ; accuracy 0.64665\n",
            "epoch 31 : loss 8.230951838300607 ; accuracy 0.6524333333333333\n",
            "epoch 32 : loss 7.4431530312279355 ; accuracy 0.6754\n",
            "epoch 33 : loss 7.467202376879328 ; accuracy 0.6632833333333333\n",
            "epoch 34 : loss 7.922349470068395 ; accuracy 0.6666166666666666\n",
            "epoch 35 : loss 6.997615015820784 ; accuracy 0.6920666666666667\n",
            "epoch 36 : loss 7.147082751187792 ; accuracy 0.6787833333333333\n",
            "epoch 37 : loss 7.699282733008502 ; accuracy 0.6727333333333333\n",
            "epoch 38 : loss 6.745610725523052 ; accuracy 0.703\n",
            "epoch 39 : loss 6.685990791588622 ; accuracy 0.6996666666666667\n",
            "epoch 40 : loss 6.884158253068564 ; accuracy 0.7002666666666667\n",
            "epoch 41 : loss 6.632664222921327 ; accuracy 0.7024666666666667\n",
            "epoch 42 : loss 6.854477944226469 ; accuracy 0.7023833333333334\n",
            "epoch 43 : loss 6.313844136370295 ; accuracy 0.7181833333333333\n",
            "epoch 44 : loss 6.340570324135675 ; accuracy 0.72095\n",
            "epoch 45 : loss 6.204336819741492 ; accuracy 0.7222666666666666\n",
            "epoch 46 : loss 6.317294608667999 ; accuracy 0.7216\n",
            "epoch 47 : loss 6.084740070516573 ; accuracy 0.7267166666666667\n",
            "epoch 48 : loss 6.201473359368989 ; accuracy 0.72395\n",
            "epoch 49 : loss 5.89051136316985 ; accuracy 0.7326\n",
            "test loss 5.810322279826671 ; accuracy 0.7385\n"
          ]
        }
      ],
      "source": [
        "train_data, test_data = mnist_dataset()\n",
        "train_label = np.zeros(shape=[train_data[0].shape[0], 10])\n",
        "test_label = np.zeros(shape=[test_data[0].shape[0], 10])\n",
        "train_label[np.arange(train_data[0].shape[0]), np.array(train_data[1])] = 1.\n",
        "test_label[np.arange(test_data[0].shape[0]), np.array(test_data[1])] = 1.\n",
        "\n",
        "for epoch in range(50):\n",
        "    loss, accuracy = train_one_step(model, train_data[0], train_label)\n",
        "    print('epoch', epoch, ': loss', loss, '; accuracy', accuracy)\n",
        "loss, accuracy = test(model, test_data[0], test_label)\n",
        "\n",
        "print('test loss', loss, '; accuracy', accuracy)"
      ]
    },
    {
      "cell_type": "code",
      "source": [],
      "metadata": {
        "id": "nl6rS4VxdkhM"
      },
      "execution_count": null,
      "outputs": []
    }
  ],
  "metadata": {
    "kernelspec": {
      "display_name": "Python 3",
      "name": "python3"
    },
    "language_info": {
      "codemirror_mode": {
        "name": "ipython",
        "version": 3
      },
      "file_extension": ".py",
      "mimetype": "text/x-python",
      "name": "python",
      "nbconvert_exporter": "python",
      "pygments_lexer": "ipython3",
      "version": "3.7.0"
    },
    "colab": {
      "provenance": [],
      "gpuType": "T4"
    },
    "accelerator": "GPU"
  },
  "nbformat": 4,
  "nbformat_minor": 0
}