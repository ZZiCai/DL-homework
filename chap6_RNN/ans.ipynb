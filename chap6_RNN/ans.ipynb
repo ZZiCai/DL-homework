{
 "cells": [
  {
   "cell_type": "code",
   "execution_count": 3,
   "metadata": {},
   "outputs": [
    {
     "name": "stdout",
     "output_type": "stream",
     "text": [
      "日开头的诗:\n",
      "日已，一日一成新。\n",
      "日日生归去，人心有酒家。\n",
      "******************************\n",
      "红开头的诗:\n",
      "红草香。\n",
      "******************************\n",
      "山开头的诗:\n",
      "山雪。\n",
      "******************************\n",
      "夜开头的诗:\n",
      "夜何，白日何时去。\n",
      "风流不可得，心事在何人。\n",
      "******************************\n",
      "湖开头的诗:\n",
      "湖望，一双黄花发。\n",
      "风起高歌归，风中望月还。\n",
      "******************************\n",
      "海开头的诗:\n",
      "海上无人见，不见西风一只安。\n",
      "******************************\n",
      "月开头的诗:\n",
      "月。\n",
      "至今少，不得道。\n",
      "******************************\n",
      "君开头的诗:\n",
      "君事何处，不见白雪。\n",
      "******************************\n"
     ]
    }
   ],
   "source": [
    "from main import gen_poem, pretty_print_poem\n",
    "\n",
    "\n",
    "prefix = ['日', '红', '山', '夜', '湖', '海', '月', '君']\n",
    "for word in prefix:\n",
    "    print(word + '开头的诗' + ':')\n",
    "    pretty_print_poem(gen_poem(word))\n",
    "    print('*'*30)"
   ]
  }
 ],
 "metadata": {
  "kernelspec": {
   "display_name": "base",
   "language": "python",
   "name": "python3"
  },
  "language_info": {
   "codemirror_mode": {
    "name": "ipython",
    "version": 3
   },
   "file_extension": ".py",
   "mimetype": "text/x-python",
   "name": "python",
   "nbconvert_exporter": "python",
   "pygments_lexer": "ipython3",
   "version": "3.11.3"
  }
 },
 "nbformat": 4,
 "nbformat_minor": 2
}
